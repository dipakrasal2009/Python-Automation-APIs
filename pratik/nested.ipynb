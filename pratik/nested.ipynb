{
 "cells": [
  {
   "cell_type": "code",
   "execution_count": 8,
   "id": "9f583772-de98-45ca-9e8d-ed05b75c2c16",
   "metadata": {},
   "outputs": [],
   "source": [
    "# * * * * \n",
    "# * * * * \n",
    "# * * * * \n",
    "# * * * * "
   ]
  },
  {
   "cell_type": "code",
   "execution_count": 4,
   "id": "f8dc81db-c976-4682-b067-6a09063a5cd4",
   "metadata": {},
   "outputs": [],
   "source": [
    "col = 4\n",
    "row = 4"
   ]
  },
  {
   "cell_type": "code",
   "execution_count": 9,
   "id": "c7ff0b3c-a7e9-4012-8f97-4c8fcd56ffbe",
   "metadata": {},
   "outputs": [
    {
     "name": "stdout",
     "output_type": "stream",
     "text": [
      "* * * * \n",
      "* * * * \n",
      "* * * * \n",
      "* * * * \n"
     ]
    }
   ],
   "source": [
    "for i in range(col):\n",
    "    for j in range(row):\n",
    "        print(\"*\",end=\" \")\n",
    "    print(\"\\r\")\n"
   ]
  },
  {
   "cell_type": "code",
   "execution_count": 10,
   "id": "d23ed421-8dee-4ddc-836a-39812550861b",
   "metadata": {},
   "outputs": [],
   "source": [
    "# * \n",
    "# * *\n",
    "# * * *\n",
    "# * * * *"
   ]
  },
  {
   "cell_type": "code",
   "execution_count": 16,
   "id": "d80c1729-c32b-4f8b-99a9-be122b8dc217",
   "metadata": {},
   "outputs": [],
   "source": [
    "a = 5\n",
    "b = 9"
   ]
  },
  {
   "cell_type": "code",
   "execution_count": 17,
   "id": "0f8d26d6-e2ce-4073-a528-42be761088f9",
   "metadata": {},
   "outputs": [
    {
     "name": "stdout",
     "output_type": "stream",
     "text": [
      "* * * * * * * * * \n",
      "* * * * * * * * * \n",
      "* * * * * * * * * \n",
      "* * * * * * * * * \n",
      "* * * * * * * * * \n"
     ]
    }
   ],
   "source": [
    "for i in range(a):\n",
    "    for j in range(b):\n",
    "        print(\"*\",end = \" \")\n",
    "    print(\"\\r\")"
   ]
  },
  {
   "cell_type": "code",
   "execution_count": 18,
   "id": "e76518c3-fe5e-4d2b-9620-5c5a341e4a1b",
   "metadata": {},
   "outputs": [],
   "source": [
    "row = 5\n",
    "col = 5"
   ]
  },
  {
   "cell_type": "code",
   "execution_count": 25,
   "id": "3c636f24-84a9-4cc5-a58e-2feebb210e26",
   "metadata": {},
   "outputs": [
    {
     "name": "stdout",
     "output_type": "stream",
     "text": [
      "      *\n",
      "      *\n",
      "      *\n",
      "      *\n"
     ]
    }
   ],
   "source": [
    "for i in range(col):\n",
    "    for j in range(row):\n",
    "        if j < row-1:\n",
    "            print(\" \",end=\" \")\n",
    "        else:\n",
    "            print(\"*\")"
   ]
  },
  {
   "cell_type": "code",
   "execution_count": 26,
   "id": "eb3c4347-145f-4df6-b8f9-4407e6053061",
   "metadata": {},
   "outputs": [
    {
     "name": "stdout",
     "output_type": "stream",
     "text": [
      "    *\n",
      "   **\n",
      "  ***\n",
      " ****\n",
      "*****\n"
     ]
    }
   ],
   "source": [
    "rows = 5\n",
    "for i in range(1, rows + 1):\n",
    "    print(' ' * (rows - i) + '*' * i)"
   ]
  },
  {
   "cell_type": "code",
   "execution_count": 27,
   "id": "f1430226-8fc6-4338-bf56-5d58c5516a49",
   "metadata": {},
   "outputs": [
    {
     "name": "stdout",
     "output_type": "stream",
     "text": [
      "        * \n",
      "      * * \n",
      "    * * * \n",
      "  * * * * \n",
      "* * * * * \n"
     ]
    }
   ],
   "source": [
    "rows = 5  \n",
    "for i in range(1, rows + 1):  #i 0\n",
    "    for j in range(rows):  # j 0\n",
    "        if j < rows - i:  \n",
    "            print(\" \", end=\" \")\n",
    "        else: \n",
    "            print(\"*\", end=\" \")\n",
    "    print()\n",
    "\n"
   ]
  },
  {
   "cell_type": "code",
   "execution_count": null,
   "id": "72530ee6-ba53-4a11-afe8-ddf787e7a3aa",
   "metadata": {},
   "outputs": [],
   "source": []
  }
 ],
 "metadata": {
  "kernelspec": {
   "display_name": "Python 3 (ipykernel)",
   "language": "python",
   "name": "python3"
  },
  "language_info": {
   "codemirror_mode": {
    "name": "ipython",
    "version": 3
   },
   "file_extension": ".py",
   "mimetype": "text/x-python",
   "name": "python",
   "nbconvert_exporter": "python",
   "pygments_lexer": "ipython3",
   "version": "3.10.12"
  }
 },
 "nbformat": 4,
 "nbformat_minor": 5
}
