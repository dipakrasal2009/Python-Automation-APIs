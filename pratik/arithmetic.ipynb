{
 "cells": [
  {
   "cell_type": "code",
   "execution_count": 9,
   "id": "ae930f93-e09f-4ffb-82af-f19a09f4d3ce",
   "metadata": {},
   "outputs": [],
   "source": [
    "def add(a,b):\n",
    "    ans = a+b\n",
    "    print(\"addition is : \",ans)\n",
    "def sub(a,b):\n",
    "    ans = a-b\n",
    "    print(\"substraction is : \",ans)\n",
    "def mult(a,b):\n",
    "    ans = a*b\n",
    "    print(\"multiplication is : \",ans)\n",
    "def div(a,b):\n",
    "    ans = a/b\n",
    "    print(\"division is : \",ans)"
   ]
  },
  {
   "cell_type": "code",
   "execution_count": 10,
   "id": "27a51869-0fad-4c78-b0d2-c02c449a9b5f",
   "metadata": {},
   "outputs": [
    {
     "name": "stdin",
     "output_type": "stream",
     "text": [
      "enter first number :  11\n",
      "enter second number : 44\n"
     ]
    },
    {
     "name": "stdout",
     "output_type": "stream",
     "text": [
      "addition is :  55\n",
      "substraction is :  -33\n",
      "multiplication is :  484\n",
      "division is :  0.25\n"
     ]
    }
   ],
   "source": [
    "num1 = int(input(\"enter first number : \"))\n",
    "num2 = int(input(\"enter second number :\"))\n",
    "add(num1,num2)\n",
    "sub(num1,num2)\n",
    "mult(num1,num2)\n",
    "div(num1,num2)"
   ]
  },
  {
   "cell_type": "code",
   "execution_count": null,
   "id": "402067ae-af74-430b-b84f-4ceda68f7dff",
   "metadata": {},
   "outputs": [],
   "source": []
  },
  {
   "cell_type": "code",
   "execution_count": null,
   "id": "942c726a-74a2-4687-9820-9b9a5d0bada3",
   "metadata": {},
   "outputs": [],
   "source": []
  }
 ],
 "metadata": {
  "kernelspec": {
   "display_name": "Python 3 (ipykernel)",
   "language": "python",
   "name": "python3"
  },
  "language_info": {
   "codemirror_mode": {
    "name": "ipython",
    "version": 3
   },
   "file_extension": ".py",
   "mimetype": "text/x-python",
   "name": "python",
   "nbconvert_exporter": "python",
   "pygments_lexer": "ipython3",
   "version": "3.10.12"
  }
 },
 "nbformat": 4,
 "nbformat_minor": 5
}
