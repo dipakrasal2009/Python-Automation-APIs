{
 "cells": [
  {
   "cell_type": "code",
   "execution_count": 2,
   "id": "0655c897-0349-485d-9147-9972d62c230d",
   "metadata": {},
   "outputs": [],
   "source": [
    "import pywhatkit as kit"
   ]
  },
  {
   "cell_type": "code",
   "execution_count": 3,
   "id": "808b82b9-46ef-4197-89ce-f8f7352286aa",
   "metadata": {},
   "outputs": [
    {
     "name": "stdin",
     "output_type": "stream",
     "text": [
      "enter the mobile number :  +919766704283\n",
      "enter the message that you want to send : hello\n"
     ]
    }
   ],
   "source": [
    "phone_number = input(\"enter the mobile number : \")\n",
    "message = input(\"enter the message that you want to send :\")\n"
   ]
  },
  {
   "cell_type": "code",
   "execution_count": 5,
   "id": "dc17f8de-883e-4bca-858f-67ce01ad693b",
   "metadata": {},
   "outputs": [
    {
     "name": "stdout",
     "output_type": "stream",
     "text": [
      "None\n"
     ]
    }
   ],
   "source": [
    "status = kit.sendwhatmsg_instantly(phone_number, message) \n",
    "print(status)\n"
   ]
  },
  {
   "cell_type": "code",
   "execution_count": 9,
   "id": "48c05b42-f19c-4105-bae2-f64fff879871",
   "metadata": {},
   "outputs": [
    {
     "data": {
      "text/plain": [
       "int"
      ]
     },
     "execution_count": 9,
     "metadata": {},
     "output_type": "execute_result"
    }
   ],
   "source": [
    "type(10)"
   ]
  },
  {
   "cell_type": "code",
   "execution_count": 10,
   "id": "3811d7bf-12c5-46af-88e9-ae4db9f2ad56",
   "metadata": {},
   "outputs": [
    {
     "data": {
      "text/plain": [
       "int"
      ]
     },
     "execution_count": 10,
     "metadata": {},
     "output_type": "execute_result"
    }
   ],
   "source": [
    "x = 10\n",
    "type(x)"
   ]
  },
  {
   "cell_type": "code",
   "execution_count": null,
   "id": "cf167bb7-6bfd-4012-be7d-61b09ec7d187",
   "metadata": {},
   "outputs": [],
   "source": []
  }
 ],
 "metadata": {
  "kernelspec": {
   "display_name": "Python 3 (ipykernel)",
   "language": "python",
   "name": "python3"
  },
  "language_info": {
   "codemirror_mode": {
    "name": "ipython",
    "version": 3
   },
   "file_extension": ".py",
   "mimetype": "text/x-python",
   "name": "python",
   "nbconvert_exporter": "python",
   "pygments_lexer": "ipython3",
   "version": "3.10.12"
  }
 },
 "nbformat": 4,
 "nbformat_minor": 5
}
