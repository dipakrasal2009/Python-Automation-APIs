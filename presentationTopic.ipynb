{
 "cells": [
  {
   "cell_type": "code",
   "execution_count": 1,
   "id": "3173532c-9d92-41de-be03-00c18efc1447",
   "metadata": {},
   "outputs": [],
   "source": [
    "name = \"jack\""
   ]
  },
  {
   "cell_type": "code",
   "execution_count": 2,
   "id": "f2363f06-368f-475f-9407-676c82485421",
   "metadata": {},
   "outputs": [
    {
     "name": "stdout",
     "output_type": "stream",
     "text": [
      "jack\n"
     ]
    }
   ],
   "source": [
    "print(name)"
   ]
  },
  {
   "cell_type": "code",
   "execution_count": 3,
   "id": "7d78740f-f260-4a9b-b99f-52c1a6ed3457",
   "metadata": {},
   "outputs": [
    {
     "name": "stdout",
     "output_type": "stream",
     "text": [
      "21\n"
     ]
    }
   ],
   "source": [
    "age = 21\n",
    "print(age)"
   ]
  },
  {
   "cell_type": "code",
   "execution_count": 4,
   "id": "0118334d-ff1e-4ec2-9d22-111123931f6f",
   "metadata": {},
   "outputs": [],
   "source": [
    "num = 10"
   ]
  },
  {
   "cell_type": "code",
   "execution_count": 5,
   "id": "957f378c-b7c1-4076-babe-2e9994d74591",
   "metadata": {},
   "outputs": [
    {
     "data": {
      "text/plain": [
       "10"
      ]
     },
     "execution_count": 5,
     "metadata": {},
     "output_type": "execute_result"
    }
   ],
   "source": [
    "num"
   ]
  },
  {
   "cell_type": "code",
   "execution_count": 6,
   "id": "3b0d493c-06ce-4a9e-8f78-aec5ca8a487d",
   "metadata": {},
   "outputs": [],
   "source": [
    "PI = 3.14\n"
   ]
  },
  {
   "cell_type": "code",
   "execution_count": 16,
   "id": "2e511dea-fe3f-4971-a047-0d8790d9eaa6",
   "metadata": {},
   "outputs": [
    {
     "data": {
      "text/plain": [
       "float"
      ]
     },
     "execution_count": 16,
     "metadata": {},
     "output_type": "execute_result"
    }
   ],
   "source": [
    "type(PI)\n"
   ]
  },
  {
   "cell_type": "code",
   "execution_count": 14,
   "id": "6c868d94-0930-4445-b85d-495c7ec939b5",
   "metadata": {},
   "outputs": [],
   "source": [
    "string = \"hello\"\n"
   ]
  },
  {
   "cell_type": "code",
   "execution_count": 15,
   "id": "2a218390-fa30-4ed9-a9fe-85ba7527d644",
   "metadata": {},
   "outputs": [
    {
     "data": {
      "text/plain": [
       "str"
      ]
     },
     "execution_count": 15,
     "metadata": {},
     "output_type": "execute_result"
    }
   ],
   "source": [
    "type(string)\n"
   ]
  },
  {
   "cell_type": "code",
   "execution_count": 10,
   "id": "c53752dd-c95a-4a45-b487-6ed3964fa3a5",
   "metadata": {},
   "outputs": [],
   "source": [
    "fruits = [\"apple\", \"banana\", \"mango\"]"
   ]
  },
  {
   "cell_type": "code",
   "execution_count": 11,
   "id": "ead99436-fdd7-472c-808f-5de02783bc93",
   "metadata": {},
   "outputs": [
    {
     "data": {
      "text/plain": [
       "['apple', 'banana', 'mango']"
      ]
     },
     "execution_count": 11,
     "metadata": {},
     "output_type": "execute_result"
    }
   ],
   "source": [
    "fruits"
   ]
  },
  {
   "cell_type": "code",
   "execution_count": 12,
   "id": "3fe41b29-312b-451d-a178-a4688b343bfd",
   "metadata": {},
   "outputs": [],
   "source": [
    "number = 22"
   ]
  },
  {
   "cell_type": "code",
   "execution_count": 13,
   "id": "ac8cc590-9fc9-4661-a694-66640f349607",
   "metadata": {},
   "outputs": [
    {
     "data": {
      "text/plain": [
       "int"
      ]
     },
     "execution_count": 13,
     "metadata": {},
     "output_type": "execute_result"
    }
   ],
   "source": [
    "type(number)"
   ]
  },
  {
   "cell_type": "code",
   "execution_count": 17,
   "id": "b18b35d4-3aad-41bf-95fe-8d8de610ff24",
   "metadata": {},
   "outputs": [],
   "source": [
    "x = 5.9"
   ]
  },
  {
   "cell_type": "code",
   "execution_count": 18,
   "id": "5da1c8b1-bfaa-48ef-8d83-84798dac30ec",
   "metadata": {},
   "outputs": [
    {
     "data": {
      "text/plain": [
       "float"
      ]
     },
     "execution_count": 18,
     "metadata": {},
     "output_type": "execute_result"
    }
   ],
   "source": [
    "type(x)"
   ]
  },
  {
   "cell_type": "code",
   "execution_count": 23,
   "id": "2271f7f6-92ae-4e82-b700-c5de7afd9acb",
   "metadata": {},
   "outputs": [],
   "source": [
    "import pyttsx3"
   ]
  },
  {
   "cell_type": "code",
   "execution_count": 24,
   "id": "1d641e53-a897-4a8e-be1e-b7ed04b15614",
   "metadata": {},
   "outputs": [],
   "source": [
    "engine = pyttsx3.init()"
   ]
  },
  {
   "cell_type": "code",
   "execution_count": 25,
   "id": "b27e57b3-8d8f-4f8a-9e0c-4abaf546d037",
   "metadata": {},
   "outputs": [],
   "source": [
    "engine.say(\"Hello jack, how are you?\")\n",
    "engine.runAndWait()"
   ]
  },
  {
   "cell_type": "code",
   "execution_count": null,
   "id": "7622e396-04b4-4fcb-a87e-54c874872560",
   "metadata": {},
   "outputs": [],
   "source": []
  },
  {
   "cell_type": "code",
   "execution_count": null,
   "id": "139e3bdd-9964-43c9-8736-b348d4864261",
   "metadata": {},
   "outputs": [],
   "source": []
  },
  {
   "cell_type": "code",
   "execution_count": null,
   "id": "0443d61e-9e88-4e15-a05f-0292cfbfe30b",
   "metadata": {},
   "outputs": [],
   "source": []
  },
  {
   "cell_type": "code",
   "execution_count": null,
   "id": "b9e09f30-5f7a-45e2-9fd5-b31cb45271e6",
   "metadata": {},
   "outputs": [],
   "source": []
  },
  {
   "cell_type": "code",
   "execution_count": null,
   "id": "1eec3067-528a-43fc-af18-bdf0e3f7ffbf",
   "metadata": {},
   "outputs": [],
   "source": []
  },
  {
   "cell_type": "code",
   "execution_count": 26,
   "id": "7d7b78e1-ff7d-44f2-a8de-c1529d9f3aad",
   "metadata": {},
   "outputs": [],
   "source": [
    "import pywhatkit as kit"
   ]
  },
  {
   "cell_type": "code",
   "execution_count": 27,
   "id": "6213ee8a-52c1-4ad7-ae94-acbbfe75bd1b",
   "metadata": {},
   "outputs": [
    {
     "name": "stdin",
     "output_type": "stream",
     "text": [
      "enter the mobile number :  90\n"
     ]
    }
   ],
   "source": [
    "phone_number = input(\"enter the mobile number : \")\n",
    "message = input(\"enter the message that you want to send :\")"
   ]
  },
  {
   "cell_type": "code",
   "execution_count": null,
   "id": "4dabd154-f02b-48fc-8a9d-6dd9d344345d",
   "metadata": {},
   "outputs": [],
   "source": []
  },
  {
   "cell_type": "code",
   "execution_count": null,
   "id": "7f271268-83c0-4937-b713-ef4893e023b4",
   "metadata": {},
   "outputs": [],
   "source": []
  },
  {
   "cell_type": "code",
   "execution_count": null,
   "id": "58ce6483-2849-466c-b152-0767b315aeb8",
   "metadata": {},
   "outputs": [],
   "source": []
  },
  {
   "cell_type": "code",
   "execution_count": 28,
   "id": "706c630a-b9c3-4668-a825-400a2e8bdde5",
   "metadata": {},
   "outputs": [],
   "source": [
    "import pywhatkit as kit"
   ]
  },
  {
   "cell_type": "code",
   "execution_count": 29,
   "id": "0465255b-c084-4ef9-a9b1-702595bd0cf8",
   "metadata": {},
   "outputs": [
    {
     "name": "stdin",
     "output_type": "stream",
     "text": [
      "enter the mobile number :  +917533844324\n",
      "enter the message that you want to send : hello From Dipak\n"
     ]
    }
   ],
   "source": [
    "phone_number = input(\"enter the mobile number : \")\n",
    "message = input(\"enter the message that you want to send :\")"
   ]
  },
  {
   "cell_type": "code",
   "execution_count": 30,
   "id": "adffeba4-19aa-428d-b48f-b94218939ffc",
   "metadata": {},
   "outputs": [],
   "source": [
    "kit.sendwhatmsg_instantly(phone_number, message)"
   ]
  },
  {
   "cell_type": "code",
   "execution_count": null,
   "id": "cb72a8c8-aa3f-4fb5-b937-75bd119da842",
   "metadata": {},
   "outputs": [],
   "source": []
  }
 ],
 "metadata": {
  "kernelspec": {
   "display_name": "Python 3 (ipykernel)",
   "language": "python",
   "name": "python3"
  },
  "language_info": {
   "codemirror_mode": {
    "name": "ipython",
    "version": 3
   },
   "file_extension": ".py",
   "mimetype": "text/x-python",
   "name": "python",
   "nbconvert_exporter": "python",
   "pygments_lexer": "ipython3",
   "version": "3.10.12"
  }
 },
 "nbformat": 4,
 "nbformat_minor": 5
}
