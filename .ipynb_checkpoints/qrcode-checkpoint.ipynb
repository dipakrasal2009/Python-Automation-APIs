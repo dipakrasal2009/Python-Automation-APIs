{
 "cells": [
  {
   "cell_type": "code",
   "execution_count": 1,
   "id": "4e8873ad-90be-4514-a4b6-63904f472f42",
   "metadata": {},
   "outputs": [],
   "source": [
    "import qrcode"
   ]
  },
  {
   "cell_type": "code",
   "execution_count": 3,
   "id": "88013f87-f691-4589-aeeb-ce5aece632ad",
   "metadata": {},
   "outputs": [],
   "source": [
    "qr_imj = qrcode.make(\"https://github.com/dipakrasal2009\")\n",
    "qr_imj.save(\"github.jpg\")"
   ]
  },
  {
   "cell_type": "code",
   "execution_count": null,
   "id": "0a75e7f8-511d-4de9-9f30-f016f1654714",
   "metadata": {},
   "outputs": [],
   "source": []
  }
 ],
 "metadata": {
  "kernelspec": {
   "display_name": "Python 3 (ipykernel)",
   "language": "python",
   "name": "python3"
  },
  "language_info": {
   "codemirror_mode": {
    "name": "ipython",
    "version": 3
   },
   "file_extension": ".py",
   "mimetype": "text/x-python",
   "name": "python",
   "nbconvert_exporter": "python",
   "pygments_lexer": "ipython3",
   "version": "3.10.12"
  }
 },
 "nbformat": 4,
 "nbformat_minor": 5
}
